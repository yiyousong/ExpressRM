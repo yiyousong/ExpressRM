{
 "cells": [
  {
   "cell_type": "code",
   "execution_count": 6,
   "id": "2b8ab9a3-c72f-477a-a6ed-e0effa96e780",
   "metadata": {},
   "outputs": [],
   "source": [
    "import shap\n",
    "import io\n",
    "import numpy as np\n",
    "import pandas as pd\n",
    "import torch\n",
    "import sys\n",
    "import os\n",
    "from torch import nn\n",
    "import argparse\n",
    "import pytorch_lightning as pl\n",
    "from pytorch_lightning.callbacks import ModelCheckpoint\n",
    "from torch.nn import functional as F\n",
    "from torch.utils.data import Dataset,DataLoader\n",
    "from functools import reduce\n",
    "from subprocess import Popen\n",
    "from Bio import SeqIO\n",
    "header='/home/yiyou/test/tmpout'"
   ]
  },
  {
   "cell_type": "code",
   "execution_count": 34,
   "id": "0f0720fd-9aa1-48bc-bea4-47159a76aa90",
   "metadata": {},
   "outputs": [
    {
     "name": "stdout",
     "output_type": "stream",
     "text": [
      "Collecting deeplift\n",
      "  Downloading deeplift-0.6.13.0.tar.gz (30 kB)\n",
      "Requirement already satisfied: numpy>=1.9 in /home/yiyou/miniconda3/lib/python3.8/site-packages (from deeplift) (1.24.4)\n",
      "Building wheels for collected packages: deeplift\n",
      "  Building wheel for deeplift (setup.py) ... \u001b[?25ldone\n",
      "\u001b[?25h  Created wheel for deeplift: filename=deeplift-0.6.13.0-py3-none-any.whl size=36447 sha256=1f95bc026012ba8839cc2255a87f25b51f83322ce14127b129e086efd9079e88\n",
      "  Stored in directory: /home/yiyou/.cache/pip/wheels/80/42/80/d6af8dbe1e394d4696459ed54b21787722b9bcb9e240dd81f5\n",
      "Successfully built deeplift\n",
      "Installing collected packages: deeplift\n",
      "Successfully installed deeplift-0.6.13.0\n"
     ]
    }
   ],
   "source": [
    "!pip install deeplift"
   ]
  },
  {
   "cell_type": "code",
   "execution_count": 4,
   "id": "9fec6680-ed75-47b2-a286-76de71a49440",
   "metadata": {},
   "outputs": [],
   "source": [
    "def fasta2binonehot(data):\n",
    "    # data is a list of sequence: [n,seqlength]\n",
    "    # possibly need list version where seqlength differ\n",
    "    data=np.squeeze(np.array(list(map(list, data))))\n",
    "    A = np.zeros_like(data,dtype=int)\n",
    "    C = np.zeros_like(data,dtype=int)\n",
    "    G = np.zeros_like(data,dtype=int)\n",
    "    U = np.zeros_like(data,dtype=int)\n",
    "    A[data == 'A'] = 1\n",
    "    C[data == 'C'] = 1\n",
    "    G[data == 'G'] = 1\n",
    "    U[data == 'U'] = 1\n",
    "    U[data == 'T'] = 1\n",
    "    A = A[..., np.newaxis]\n",
    "    C = C[..., np.newaxis]\n",
    "    G = G[..., np.newaxis]\n",
    "    U = U[..., np.newaxis]\n",
    "    bindata=np.append(A,C,axis=-1)\n",
    "    bindata = np.append(bindata, G, axis=-1)\n",
    "    bindata = np.append(bindata, U, axis=-1)\n",
    "    return bindata"
   ]
  },
  {
   "cell_type": "code",
   "execution_count": 7,
   "id": "f1ceffc9-0db2-4e54-b31d-0e3d8966c67e",
   "metadata": {},
   "outputs": [
    {
     "data": {
      "text/plain": [
       "(252009, 2001, 4)"
      ]
     },
     "execution_count": 7,
     "metadata": {},
     "output_type": "execute_result"
    }
   ],
   "source": [
    "seq_list=[]\n",
    "for seq_record in SeqIO.parse('%s/sequence.fasta'%(header),format='fasta'):\n",
    "    sequence=seq_record.seq\n",
    "    seq_list.append(sequence)\n",
    "seq_list=np.asarray(seq_list)\n",
    "sequence=fasta2binonehot(seq_list)\n",
    "sequence.shape"
   ]
  },
  {
   "cell_type": "code",
   "execution_count": 15,
   "id": "58a74938-fc79-4b0b-9f6a-afa4a1d94200",
   "metadata": {},
   "outputs": [],
   "source": [
    "class MultiAdaptPooling(nn.Module):\n",
    "    def __init__(self, model, outsizelist=np.array([9, 25, 64])):\n",
    "        super(MultiAdaptPooling, self).__init__()\n",
    "        self.model = model\n",
    "        self.modellist = []\n",
    "        for i in outsizelist:\n",
    "            self.modellist.append(nn.AdaptiveAvgPool1d(i))\n",
    "    def forward(self, x):\n",
    "        outlist = []\n",
    "        for model in self.modellist:\n",
    "            outlist.append(self.model(model(x)))\n",
    "        out=torch.cat(outlist, -1)\n",
    "        return out"
   ]
  },
  {
   "cell_type": "code",
   "execution_count": 140,
   "id": "74d300d2-a462-4baa-96a1-f2c57810e904",
   "metadata": {},
   "outputs": [
    {
     "data": {
      "text/plain": [
       "ExpressRM(\n",
       "  (conv_model): Sequential(\n",
       "    (0): Conv1d(4, 64, kernel_size=(7,), stride=(5,))\n",
       "    (1): BatchNorm1d(64, eps=1e-05, momentum=0.1, affine=True, track_running_stats=True)\n",
       "    (2): LeakyReLU(negative_slope=0.01)\n",
       "    (3): Dropout(p=0.25, inplace=False)\n",
       "    (4): Conv1d(64, 64, kernel_size=(7,), stride=(1,))\n",
       "    (5): BatchNorm1d(64, eps=1e-05, momentum=0.1, affine=True, track_running_stats=True)\n",
       "    (6): LeakyReLU(negative_slope=0.01)\n",
       "    (7): Dropout(p=0.25, inplace=False)\n",
       "    (8): MaxPool1d(kernel_size=2, stride=2, padding=0, dilation=1, ceil_mode=False)\n",
       "    (9): Conv1d(64, 64, kernel_size=(7,), stride=(1,))\n",
       "    (10): BatchNorm1d(64, eps=1e-05, momentum=0.1, affine=True, track_running_stats=True)\n",
       "    (11): LeakyReLU(negative_slope=0.01)\n",
       "    (12): Dropout(p=0.25, inplace=False)\n",
       "  )\n",
       "  (adaptconv_model): MultiAdaptPooling(\n",
       "    (model): Sequential(\n",
       "      (0): Conv1d(64, 64, kernel_size=(7,), stride=(1,))\n",
       "      (1): BatchNorm1d(64, eps=1e-05, momentum=0.1, affine=True, track_running_stats=True)\n",
       "      (2): LeakyReLU(negative_slope=0.01)\n",
       "      (3): Dropout(p=0.25, inplace=False)\n",
       "      (4): Conv1d(64, 64, kernel_size=(7,), stride=(1,))\n",
       "      (5): BatchNorm1d(64, eps=1e-05, momentum=0.1, affine=True, track_running_stats=True)\n",
       "      (6): LeakyReLU(negative_slope=0.01)\n",
       "      (7): Dropout(p=0.25, inplace=False)\n",
       "      (8): AdaptiveAvgPool1d(output_size=21)\n",
       "      (9): Conv1d(64, 64, kernel_size=(7,), stride=(1,))\n",
       "      (10): BatchNorm1d(64, eps=1e-05, momentum=0.1, affine=True, track_running_stats=True)\n",
       "      (11): LeakyReLU(negative_slope=0.01)\n",
       "      (12): Dropout(p=0.25, inplace=False)\n",
       "      (13): Conv1d(64, 64, kernel_size=(7,), stride=(1,))\n",
       "      (14): BatchNorm1d(64, eps=1e-05, momentum=0.1, affine=True, track_running_stats=True)\n",
       "      (15): LeakyReLU(negative_slope=0.01)\n",
       "      (16): Dropout(p=0.25, inplace=False)\n",
       "      (17): Flatten(start_dim=1, end_dim=-1)\n",
       "    )\n",
       "  )\n",
       "  (geneenc): Sequential(\n",
       "    (0): Linear(in_features=28278, out_features=1000, bias=True)\n",
       "    (1): LeakyReLU(negative_slope=0.01)\n",
       "    (2): Dropout(p=0.25, inplace=False)\n",
       "    (3): Linear(in_features=1000, out_features=500, bias=True)\n",
       "    (4): LeakyReLU(negative_slope=0.01)\n",
       "  )\n",
       "  (predicationhead): Sequential(\n",
       "    (0): Linear(in_features=2817, out_features=2048, bias=True)\n",
       "    (1): LeakyReLU(negative_slope=0.01)\n",
       "    (2): Dropout(p=0.25, inplace=False)\n",
       "    (3): Linear(in_features=2048, out_features=1024, bias=True)\n",
       "    (4): LeakyReLU(negative_slope=0.01)\n",
       "    (5): Dropout(p=0.25, inplace=False)\n",
       "    (6): Linear(in_features=1024, out_features=1024, bias=True)\n",
       "    (7): LeakyReLU(negative_slope=0.01)\n",
       "    (8): Dropout(p=0.25, inplace=False)\n",
       "    (9): Linear(in_features=1024, out_features=4, bias=True)\n",
       "  )\n",
       ")"
      ]
     },
     "execution_count": 140,
     "metadata": {},
     "output_type": "execute_result"
    }
   ],
   "source": [
    "class ExpressRM(pl.LightningModule):\n",
    "    # unet assume seqlength to be ~500\n",
    "    def __init__(self,useseq=True,usegeo=True,usetgeo=True,usegene=True,usegenelocexp=True, patchsize=7, patchstride=5, inchan=4, dim=64, kernelsize=7,\n",
    "                 adaptoutsize=9, geneoutsize=500, geooutsize=32, droprate=0.25, lr=2e-5):\n",
    "        super(ExpressRM, self).__init__()\n",
    "        self.useseq = useseq\n",
    "        self.usegeo = usegeo\n",
    "        self.usegene = usegene\n",
    "        self.usegenelocexp = usegenelocexp\n",
    "        self.usetgeo = usetgeo\n",
    "        self.droprate = droprate\n",
    "        self.seqoutsize = 4 * adaptoutsize * dim\n",
    "        self.geneoutsize = geneoutsize\n",
    "        self.geooutsize = geooutsize\n",
    "        self.learning_rate = lr\n",
    "        self.posweight=torch.as_tensor(3.0)\n",
    "        self.save_hyperparameters()\n",
    "        self.conv_model = nn.Sequential(\n",
    "            nn.Conv1d(in_channels=inchan, out_channels=dim, kernel_size=patchsize, stride=patchstride),\n",
    "            nn.BatchNorm1d(dim),\n",
    "            nn.LeakyReLU(),\n",
    "            nn.Dropout(droprate),\n",
    "            nn.Conv1d(in_channels=dim, out_channels=dim, kernel_size=kernelsize),\n",
    "            nn.BatchNorm1d(dim),\n",
    "            nn.LeakyReLU(),\n",
    "            nn.Dropout(droprate),\n",
    "            nn.MaxPool1d(2),\n",
    "            nn.Conv1d(in_channels=dim, out_channels=dim, kernel_size=kernelsize),\n",
    "            nn.BatchNorm1d(dim),\n",
    "            nn.LeakyReLU(),\n",
    "            nn.Dropout(droprate))\n",
    "        self.adaptconv_model = MultiAdaptPooling(\n",
    "            nn.Sequential(\n",
    "                nn.Conv1d(in_channels=dim, out_channels=dim, kernel_size=kernelsize),\n",
    "                nn.BatchNorm1d(dim),\n",
    "                nn.LeakyReLU(),\n",
    "                nn.Dropout(droprate),\n",
    "                nn.Conv1d(in_channels=dim, out_channels=dim, kernel_size=kernelsize),\n",
    "                nn.BatchNorm1d(dim),\n",
    "                nn.LeakyReLU(),\n",
    "                nn.Dropout(droprate),\n",
    "                nn.AdaptiveAvgPool1d(adaptoutsize + 2*(kernelsize - 1)),\n",
    "                nn.Conv1d(in_channels=dim, out_channels=dim, kernel_size=kernelsize),\n",
    "                nn.BatchNorm1d(dim),\n",
    "                nn.LeakyReLU(),\n",
    "                nn.Dropout(droprate),\n",
    "                nn.Conv1d(in_channels=dim, out_channels=dim, kernel_size=kernelsize),\n",
    "                nn.BatchNorm1d(dim),\n",
    "                nn.LeakyReLU(),\n",
    "                nn.Dropout(droprate),\n",
    "                nn.Flatten()\n",
    "            )\n",
    "            , np.array([16, 32, 64, 128]))\n",
    "        self.geneenc = nn.Sequential(nn.Linear(28278, 1000), nn.LeakyReLU(), nn.Dropout(self.droprate),\n",
    "                                     nn.Linear(1000, self.geneoutsize), nn.LeakyReLU())\n",
    "        self.predicationhead = nn.Sequential(\n",
    "            # nn.Flatten(1,-1),\n",
    "            nn.Linear(self.seqoutsize + self.geneoutsize + 12 + 1, 2048),\n",
    "            nn.LeakyReLU(),\n",
    "            nn.Dropout(droprate),\n",
    "            nn.Linear(2048, 1024),\n",
    "            nn.LeakyReLU(),\n",
    "            nn.Dropout(droprate),\n",
    "            nn.Linear(1024, 1024),\n",
    "            nn.LeakyReLU(),\n",
    "            nn.Dropout(droprate),\n",
    "            nn.Linear(1024, 4),\n",
    "        )\n",
    "    def configure_optimizers(self):\n",
    "        optimizer = torch.optim.Adam(self.parameters(), lr=self.learning_rate)\n",
    "        return optimizer\n",
    "    def forward(self, x,geo,gene,genelocexp):\n",
    "        # x=mergedinput[:,:8004].reshape([-1,2001,4])\n",
    "        # geo=mergedinput[:,8004:8016].reshape([-1,1,12])\n",
    "        # gene=mergedinput[:,8016:8016+28278].reshape([-1,28278])\n",
    "        # genelocexp=mergedinput[:,-1].reshape([-1,1,1])\n",
    "        # print(x.shape)\n",
    "        # print(geo.shape)\n",
    "        # print(gene.shape)\n",
    "        # print(genelocexp.shape)\n",
    "        \n",
    "        batchsize = x.size()[0]\n",
    "        tissuesize = 1\n",
    "        if self.useseq:\n",
    "            x = x.transpose(-1, -2)\n",
    "            adaptout = self.adaptconv_model(self.conv_model(x))\n",
    "        # seq [N,2304]\n",
    "        if self.usegene:\n",
    "            # gene= self.geneenc(torch.mean(self.geneatt(geneloc,gene),dim=-2))\n",
    "            gene= self.geneenc(gene)\n",
    "        else:\n",
    "            gene= torch.zeros([batchsize,tissuesize,self.geneoutsize]).float().cuda()\n",
    "            #[N,37,24]\n",
    "        if not self.usetgeo:\n",
    "                    geo[:,:,6:]*=0\n",
    "        if not self.usegeo:\n",
    "                geo[:, :, :6] *= 0\n",
    "        if not self.usegenelocexp:\n",
    "            genelocexp*=0\n",
    "        # for entry in [adaptout, gene, geo.squeeze(1), genelocexp]:\n",
    "        #     print(entry.shape)\n",
    "        adaptout = torch.cat([adaptout, gene, geo.squeeze(1), genelocexp], dim=-1)\n",
    "        out = self.predicationhead(adaptout)\n",
    "        return out\n",
    "device='cpu'\n",
    "model=ExpressRM().load_from_checkpoint('/home/yiyou/test/model.ckpt',map_location=device)\n",
    "model.eval()"
   ]
  },
  {
   "cell_type": "code",
   "execution_count": 11,
   "id": "02bd829e-d79e-4c42-a90e-247677544b0c",
   "metadata": {},
   "outputs": [],
   "source": [
    "refgeo=np.asarray(pd.read_csv('%s/geo.csv'%(header)))[:,6:]\n",
    "tgeo=np.asarray(pd.read_csv('%s/tgeo0.csv'%(header)))[:,6:]\n"
   ]
  },
  {
   "cell_type": "code",
   "execution_count": 103,
   "id": "38c3bab1-a528-408f-b740-a4fade605ae0",
   "metadata": {},
   "outputs": [
    {
     "data": {
      "text/plain": [
       "(252009, 38, 12)"
      ]
     },
     "execution_count": 103,
     "metadata": {},
     "output_type": "execute_result"
    }
   ],
   "source": [
    "geo_list=[]\n",
    "geo=np.append(refgeo,tgeo,axis=-1)\n",
    "geo_list.append(geo)\n",
    "for tissue in np.array(generalexppd.columns):\n",
    "    tgeo=np.asarray(pd.read_csv('/home/yiyou/tissue/geo/%s.csv'%(tissue)))[:,6:]\n",
    "    geo=np.append(refgeo,tgeo,axis=-1)\n",
    "    geo_list.append(geo)\n",
    "geo=np.array(geo_list).transpose([1,0,2])\n",
    "geo.shape"
   ]
  },
  {
   "cell_type": "code",
   "execution_count": 128,
   "id": "5599cdbd-a707-423c-897c-39f71533d39d",
   "metadata": {},
   "outputs": [],
   "source": [
    "hostgeneexp=np.asarray(pd.read_csv('%s/lg2hosting_expression.csv'%(header)))[:,:1]\n",
    "geneexp=np.asarray(pd.read_csv('%s/lg2geneexp.csv'%(header),index_col=0))[:,:1]\n",
    "# generalhostexp=np.asarray(pd.read_csv('/home/yiyou/lg2hosting_expression.csv',index_col=0))\n",
    "generalexp=np.asarray(pd.read_csv('/home/yiyou/lg2geneexp.csv',index_col=0))\n",
    "generalexppd=pd.read_csv('/home/yiyou/lg2geneexp.csv',index_col=0)"
   ]
  },
  {
   "cell_type": "code",
   "execution_count": 130,
   "id": "496162b9-4a27-4926-b4a3-ef4fc4b6837f",
   "metadata": {},
   "outputs": [],
   "source": [
    "geneexp=np.append(geneexp,generalexp,axis=1)"
   ]
  },
  {
   "cell_type": "code",
   "execution_count": 131,
   "id": "ec2c94c8-58ff-480f-ae89-63cb0627e307",
   "metadata": {},
   "outputs": [],
   "source": [
    "\n",
    "sequence=torch.as_tensor(sequence).float().to(device)\n",
    "geo=torch.as_tensor(geo).float().to(device)\n",
    "hostgeneexp=torch.as_tensor(hostgeneexp).float().unsqueeze(2).to(device)\n",
    "geneexp=torch.as_tensor(geneexp).float().transpose(1,0).to(device)"
   ]
  },
  {
   "cell_type": "code",
   "execution_count": 135,
   "id": "418948ef-ab47-45e4-b268-b6d0916162df",
   "metadata": {},
   "outputs": [],
   "source": [
    "def extract_entry(i,j):\n",
    "    return [sequence[i:i+1], geo[i:i+1,j], geneexp[j:j+1], hostgeneexp[i:(i+1),0]]\n",
    "def extract_group_entry(npi,npj):\n",
    "    entry_list=[[],[],[],[]]\n",
    "    for j in npj:\n",
    "        for i in npi:\n",
    "            entry=extract_entry(i,j)\n",
    "            for k in range(4):\n",
    "                entry_list[k].append(entry[k])\n",
    "    \n",
    "    for k in range(4):\n",
    "        print(k)\n",
    "        entry_list[k]=torch.cat(entry_list[k])\n",
    "    return entry_list"
   ]
  },
  {
   "cell_type": "code",
   "execution_count": 227,
   "id": "736202c8-3356-4508-909d-d6642f0afb32",
   "metadata": {},
   "outputs": [
    {
     "name": "stdout",
     "output_type": "stream",
     "text": [
      "0\n",
      "1\n",
      "2\n",
      "3\n"
     ]
    }
   ],
   "source": [
    "top_entries=torch.argsort(model.forward(*extract_group_entry(np.arange(200),np.arange(1)))[:,0],descending=True)[:20]"
   ]
  },
  {
   "cell_type": "code",
   "execution_count": 224,
   "id": "dce7d11f-a613-41ca-b92c-6f4193c114f6",
   "metadata": {},
   "outputs": [
    {
     "data": {
      "text/plain": [
       "array([198])"
      ]
     },
     "execution_count": 224,
     "metadata": {},
     "output_type": "execute_result"
    }
   ],
   "source": [
    "top_entries.numpy()[1:2]"
   ]
  },
  {
   "cell_type": "code",
   "execution_count": 228,
   "id": "c8635617-af2c-43c3-82d5-8c042aea4629",
   "metadata": {},
   "outputs": [
    {
     "name": "stdout",
     "output_type": "stream",
     "text": [
      "0\n",
      "1\n",
      "2\n",
      "3\n",
      "0\n",
      "1\n",
      "2\n",
      "3\n"
     ]
    }
   ],
   "source": [
    "shap_explainer = shap.GradientExplainer(model, extract_group_entry(np.arange(200),np.arange(38)))\n",
    "raw_shap_explanations = shap_explainer.shap_values(extract_group_entry(top_entries.numpy(),[0]))"
   ]
  },
  {
   "cell_type": "code",
   "execution_count": 190,
   "id": "fbdfba6b-4e1b-45b7-ab68-16f7e59daa87",
   "metadata": {},
   "outputs": [
    {
     "name": "stdout",
     "output_type": "stream",
     "text": [
      "(1, 28278)\n",
      "-0.45865870984287443\n",
      "-0.17472765757842137\n",
      "-0.02175326724908\n",
      "-0.0034240561220748294\n",
      "0.0023451372628989792\n",
      "0.025745516929735333\n",
      "0.07694365741983478\n",
      "0.32651892193666743\n",
      "0.6129571111891621\n"
     ]
    }
   ],
   "source": [
    "def quantiles(a):\n",
    "    print(a.shape)\n",
    "    print(np.quantile(a,0.001))\n",
    "    print(np.quantile(a,0.01))\n",
    "    print(np.quantile(a,0.1))\n",
    "    print(np.quantile(a,0.25))\n",
    "    print(np.quantile(a,0.5))\n",
    "    print(np.quantile(a,0.75))\n",
    "    print(np.quantile(a,0.9))\n",
    "    print(np.quantile(a,0.99))\n",
    "    print(np.quantile(a,0.999))\n",
    "quantiles(raw_shap_explanations[0][2])"
   ]
  },
  {
   "cell_type": "code",
   "execution_count": 285,
   "id": "d8d6685d-e36a-42a4-bee7-4202fc0c5f08",
   "metadata": {},
   "outputs": [],
   "source": [
    "\n",
    "gene_list=[]\n",
    "gene_idx_list=np.zeros_like(raw_shap_explanations[0][2][0])\n",
    "gene_idx=pd.read_csv('/home/yiyou/lg2geneexp.csv',index_col=0).index\n",
    "for i in range(20):\n",
    "    a=raw_shap_explanations[0][2][i]\n",
    "    gene_idx_list+=a>np.quantile(a,0.99)\n",
    "    gene_list.append(gene_idx[a>np.quantile(a,0.99)])\n",
    "top_idx=np.where(gene_idx_list>=20)[0]#update: this is actually random, did not affect results though"
   ]
  },
  {
   "cell_type": "code",
   "execution_count": 279,
   "id": "8b1713ee-9a72-433c-bbfd-23c8630540c5",
   "metadata": {},
   "outputs": [],
   "source": [
    "np.set_printoptions(suppress=True)\n",
    "torch.set_printoptions(sci_mode=False)"
   ]
  },
  {
   "cell_type": "markdown",
   "id": "7c9801d7-8d18-4852-80cf-f614f264a361",
   "metadata": {},
   "source": [
    "unidentified/unexpressed genes are most important?"
   ]
  },
  {
   "cell_type": "code",
   "execution_count": 286,
   "id": "931fd9d7-0859-4538-acc8-e34f5b528f44",
   "metadata": {},
   "outputs": [
    {
     "name": "stdout",
     "output_type": "stream",
     "text": [
      "tensor([    0.0000,     0.0000,     0.0000,     0.0000,     0.0000,     5.8890,\n",
      "            0.6069,     0.9033,     0.0000,     0.0000,     0.0000,     0.0000,\n",
      "            0.0000,     0.0000,     0.0000,     0.0000,     0.0000,     1.3933,\n",
      "            0.0000,     0.0000,     0.0000,     0.0000,     0.0000,     0.0000,\n",
      "            0.0000,     0.0000,     1.0984,     0.8624,     0.0000,     0.0000,\n",
      "            0.0000,     0.0000,     0.0000,     0.0000,     0.0000,     0.0000,\n",
      "            0.0000,     0.0000,     0.0000,     0.0000,     0.0000,     0.0000,\n",
      "            0.0000,     0.0000,     0.0000,     0.0000,     0.0000,     0.0000,\n",
      "            0.0000,     0.0000,     0.0000,     0.0000,     0.0000,     0.0000,\n",
      "            0.0000,     0.0000,     0.0000,     0.7963,     0.0000,     0.0209,\n",
      "            0.0000,     0.0000,     0.0000,     0.0000,     0.0000,     0.0000,\n",
      "            0.0000,     0.0000,     0.0000,     0.0000,     0.0000,     0.0000,\n",
      "            0.0000,     0.0000,     0.0000,     0.0000,     0.0000,     1.2477,\n",
      "            0.0000,     0.0000,     0.0000,     0.0000,     0.0000,     0.0000,\n",
      "            0.0000,     0.0000,     0.0000,     0.0000,     0.0000,     0.0000,\n",
      "            0.0000,     0.0000,     0.0000,     0.0000,     0.0000,     0.0000,\n",
      "            0.0000,     0.0000,     0.0000,     0.0000,     0.0000,     0.0000,\n",
      "            0.0000,     0.0000,     0.0000,     0.4381,     0.0000,     0.0000,\n",
      "            0.3524,     0.0000,     0.0000,     0.0000,     0.0000,     0.0000,\n",
      "            0.0000,     0.0000,     1.0794,     0.0000,     0.0000,     0.0000,\n",
      "            0.0000,     0.0000,     0.0000,     0.0000,     0.0000,     0.0000,\n",
      "            0.0000,     0.0000,     0.9724,     0.0000,     0.0000,     0.0000,\n",
      "            0.0000,     0.0000,     0.0000,     0.0000,     0.0000,     0.0000,\n",
      "            0.0265,     0.0000,     0.0217,     0.0000,     0.0000,     0.0000,\n",
      "            0.0000,     0.0000,     0.0000,     0.0000,     0.0000,     0.0000,\n",
      "            2.1852,     2.6967,     0.0012,     0.0000,     1.3856,     0.0000,\n",
      "            0.7934,     0.0000,     0.0000,     0.0000,     0.0060,     0.0000,\n",
      "            0.0000,     0.0000,     0.0000,     0.0000,     1.5535,     0.0000,\n",
      "            0.0000,     0.0000,     0.0000,     0.0000,     0.0000,     0.0000,\n",
      "            0.0000,     0.0000,     0.0000,     0.0000,     0.0000,     0.0000,\n",
      "            0.0000,     0.0000,     0.0000,     0.0000,     0.0000,     0.0000,\n",
      "            0.0000,     0.0000,     0.0000,     0.0000,     0.0000,     0.0000,\n",
      "            0.0000,     0.0000,     0.0000,     0.1119,     0.0000,     0.0000,\n",
      "            0.0000,     0.0000,     0.0000,     0.0000,     0.0000,     0.3503,\n",
      "            0.0000,     0.0000,     0.0000,     0.0000,     0.0000,     0.0000,\n",
      "            0.0000,     0.3435,     0.0000,     0.0000,     0.0000,     0.0000,\n",
      "            0.0000,     0.0000,     0.0000,     0.0000,     0.0000,     0.0000,\n",
      "            0.0000,     0.0000,     0.0000,     0.0000,     0.1798,     0.0000,\n",
      "            0.0000,     0.0000,     0.0000,     0.0000,     0.0000,     0.0000,\n",
      "            0.0000,     0.8558])\n"
     ]
    }
   ],
   "source": [
    "print(geneexp[0,top_idx])"
   ]
  },
  {
   "cell_type": "code",
   "execution_count": 290,
   "id": "9c9c290d-2db1-481d-a998-2bfb9d181934",
   "metadata": {},
   "outputs": [
    {
     "data": {
      "text/plain": [
       "tensor([ -7.9097,  -6.6658,  -5.1002,  -6.9264,  -5.2148,   5.0860,  -4.5753,\n",
       "         -6.0232,  -6.0740,  -4.9180,  -5.2970,  -8.4340,  -5.8198,  -7.9616,\n",
       "         -3.0600,  -6.4386,  -7.0127,  -5.8607,  -6.5008,  -7.8746,  -8.3614,\n",
       "         -6.2209,  -5.9310,  -6.1740,  -5.3491,  -7.6326,  -4.7816,  -3.9192,\n",
       "         -5.8391,  -5.4816,  -7.3350,  -6.3848,  -4.8049,  -4.8870,  -8.7246,\n",
       "         -6.2435,  -7.3524,  -4.4110,  -6.6602,  -3.6210,  -5.3610,  -5.7321,\n",
       "         -6.4962,  -7.2795,  -4.7718,  -6.9068,  -5.7339,  -6.5236,  -5.5394,\n",
       "         -5.4978,  -5.8040,  -6.6957,  -5.3208,  -7.2633,  -4.9193,  -5.3102,\n",
       "         -6.6393,  -6.2073,  -6.1045,  -8.5248,  -5.7696,  -6.9978,  -6.8733,\n",
       "         -7.0491,  -4.3317,  -7.0385,  -4.1929,  -6.4812,  -5.9206,  -7.2155,\n",
       "         -5.3074,  -5.1881,  -6.5410,  -6.2910,  -4.9710,  -5.9401,  -9.0877,\n",
       "         -5.5116,  -5.9718,  -4.2068,  -6.1840,  -5.7003,  -5.5157,  -5.5467,\n",
       "         -8.5396,  -7.9249,  -5.1496,  -7.1384,  -7.2848,  -6.1860,  -5.4977,\n",
       "         -6.1407,  -7.4484,  -4.8129,  -5.9577,  -6.1365,  -5.7077,  -6.9610,\n",
       "         -8.1651,  -7.3926,  -6.3967,  -8.6677,  -8.4097,  -5.3072,  -6.7086,\n",
       "         -5.0592,  -7.3221,  -6.2944,  -5.5499,  -7.2802,  -6.1950,  -5.8627,\n",
       "         -6.0386,  -6.7123,  -5.0900,  -4.1374,  -4.2681,  -4.3620,  -5.9100,\n",
       "         -7.2367,  -6.6868,  -6.3083,  -6.3912,  -6.1918,  -4.0655,  -7.2872,\n",
       "         -7.5032,  -7.2103,  -7.0545,  -5.4427,  -5.4291,  -5.4123,  -5.9587,\n",
       "         -7.6435,  -4.4853,  -6.9669,  -4.8456,  -7.3978,  -8.2234,  -4.7502,\n",
       "         -6.0135,  -5.5932,  -4.0466,  -6.7858,  -6.7960,  -7.7414,  -4.9060,\n",
       "         -8.1907,  -6.6640, -10.7944,  -7.7987,  -3.8257,  -4.6391,  -6.8370,\n",
       "        -11.9059,  -5.7919,  -6.4252,  -6.3573,  -6.9878,  -3.7559,  -5.8964,\n",
       "         -7.9386,  -7.2287,  -4.4035,  -4.4885,  -6.9038,  -6.4396,  -5.5632,\n",
       "         -3.7652,  -5.6121,  -5.9855,  -3.7484,  -4.9337,  -6.9820,  -5.1406,\n",
       "         -5.8785,  -3.9030,  -6.0309,  -6.2566,  -5.1596,  -6.6735,  -5.9546,\n",
       "         -6.1052,  -6.6455,  -4.9062,  -7.1814,  -5.6924,  -4.8565,  -5.9423,\n",
       "         -7.8844,  -7.4409,  -7.2191,  -5.3061,  -5.1635,  -6.6886,  -6.4869,\n",
       "         -6.7238,  -5.6130,  -4.2105,  -3.9946,  -7.5842,  -6.5768,  -6.4048,\n",
       "         -5.6866,  -7.3164,  -4.9508,  -4.3701,  -5.7113,  -6.6627,  -4.8295,\n",
       "         -7.4963,  -7.1633,  -6.3667,  -6.4325,  -5.4937,  -7.0030,  -6.9811,\n",
       "         -5.1498,  -6.4681,  -4.5482,  -6.6662,  -6.5134,  -6.5556,  -5.3506,\n",
       "         -9.8927,  -3.6667,  -9.8397,  -6.2147,  -7.2303,  -6.8768,  -6.8187,\n",
       "         -5.3725,  -7.5154,  -6.8436,  -6.5929,  -3.5905])"
      ]
     },
     "execution_count": 290,
     "metadata": {},
     "output_type": "execute_result"
    }
   ],
   "source": [
    "geneexp[0,top_idx]-torch.mean(geneexp[:,top_idx],axis=0)"
   ]
  },
  {
   "cell_type": "code",
   "execution_count": 292,
   "id": "22c9ee43-a884-485f-9c69-4cfc0d0993e6",
   "metadata": {},
   "outputs": [
    {
     "data": {
      "text/plain": [
       "'DOCK7'"
      ]
     },
     "execution_count": 292,
     "metadata": {},
     "output_type": "execute_result"
    }
   ],
   "source": [
    "gene_idx[top_idx[5]]"
   ]
  },
  {
   "cell_type": "markdown",
   "id": "85a597ce-2bc4-459b-8fb0-21643b30980f",
   "metadata": {},
   "source": [
    "cell below shows top-0.1% positive influenctial genes in all twenty examined samples."
   ]
  },
  {
   "cell_type": "code",
   "execution_count": 295,
   "id": "f08277e3-b286-4acb-92e6-b5897135169e",
   "metadata": {},
   "outputs": [
    {
     "data": {
      "text/plain": [
       "array(['ADCY9', 'ADO', 'ADRB1', 'AFDN', 'AFG3L2', 'AHNAK2', 'AIG1', 'AKAP1', 'AKAP13', 'AKAP6', 'AKT1', 'ALG11', 'ANGPTL2',\n",
       "       'ANO8', 'ANTXR2', 'ARHGAP21', 'ARHGAP5-AS1', 'ARMCX6', 'ATN1', 'ATP6V0D1', 'AVPI1', 'BACE1', 'BCCIP', 'BICC1', 'BMI1',\n",
       "       'BOD1L1', 'BPTF', 'BRF1', 'C11orf95', 'C16orf91', 'C1GALT1C1', 'C1orf116', 'CALR', 'CCDC32', 'CCDC9B', 'CCL21',\n",
       "       'CDC42EP2', 'CDK12', 'CDK2AP2', 'CEP85L', 'CEP97', 'CHST2', 'CIC', 'CLCN7', 'CLMP', 'CRIP1', 'CSRNP2', 'CTSC', 'CUL1',\n",
       "       'DAPK1', 'DCAF10', 'DCBLD1', 'DEPP1', 'DIPK1B', 'DIPK2A', 'DOCK7', 'DYRK1A', 'EDNRB', 'EFL1', 'EFNB2', 'ELK4', 'EMILIN1',\n",
       "       'ENDOD1', 'EOLA1', 'EP300', 'EPB41L2', 'ERAL1', 'FAF2', 'FAM171A1', 'FBXL12', 'FBXL3', 'FBXO34', 'FGF10', 'FGF9',\n",
       "       'FILIP1L', 'FRMD4A', 'FRMD6', 'GBGT1', 'GCC1', 'GEMIN4', 'GIMAP8', 'GLT8D1', 'GLYR1', 'GNE', 'GOLGA8B', 'H2AJ', 'HDAC7',\n",
       "       'HIVEP2', 'HNRNPF', 'HSP90B1', 'HSPA2', 'HYAL2', 'IER5L', 'JADE2', 'JUND', 'KBTBD2', 'KBTBD7', 'KCTD2', 'KDM2A', 'KLF4',\n",
       "       'KLHL24', 'KLHL8', 'LARP6', 'LINC00526', 'LINC00863', 'LINC00938', 'LOC100129917', 'LOC107985946', 'MAP1B', 'MBD5',\n",
       "       'MDM4', 'METTL15', 'MGAT2', 'MIDEAS', 'MIER3', 'MIS12', 'MOB2', 'MRFAP1L1', 'MRGPRF', 'MRPL41', 'MRPS30', 'MRPS34',\n",
       "       'MS4A6A', 'MSRB1', 'MSRB2', 'MYL12B', 'NAXD', 'NEO1', 'NFX1', 'NISCH', 'NOB1', 'NUB1', 'OAF', 'OGA', 'OLFML2A', 'OXR1',\n",
       "       'OXSR1', 'PCDHGA10', 'PCNX3', 'PDZD8', 'PECAM1', 'PITX1', 'PLIN2', 'PNMA1', 'POLG2', 'PPCS', 'PPM1A', 'PPP1R13B',\n",
       "       'PPP4R3A', 'PRKAR1B', 'PRMT2', 'PRR5L', 'PRSS23', 'PTCH1', 'PTRH2', 'RAB32', 'RAB40C', 'RAB8B', 'RAD23B', 'RBM4B', 'RBM7',\n",
       "       'RBSN', 'RESF1', 'RGS3', 'RMRP', 'RN7SL2', 'RNASE1', 'RNASEH2C', 'RNF135', 'RNU5A-1', 'RPP25', 'RPPH1', 'RUNX1T1',\n",
       "       'SAMD8', 'SCARA3', 'SIAH2', 'SIN3A', 'SIPA1L1', 'SKI', 'SLC35D2', 'SLCO3A1', 'SLMAP', 'SMIM13', 'SMOC2', 'SNRNP25',\n",
       "       'SOCS5', 'SOS1', 'SPOP', 'SRGAP2D', 'STAG3L5P-PVRIG2P-PILRB', 'STON2', 'TAF8', 'TEAD4', 'TELO2', 'THBS1', 'THEMIS2',\n",
       "       'TLN2', 'TM2D3', 'TMED1', 'TMED8', 'TMEM115', 'TMEM265', 'TMEM51', 'TMUB2', 'TOPORS', 'TP53BP2', 'TPGS1', 'TPM2', 'TRAF4',\n",
       "       'TRMT10C', 'TSEN54', 'TSPYL5', 'TSR3', 'UACA', 'UBAC1', 'UBP1', 'USP6NL', 'VCP', 'WAC', 'WDR20', 'WDR55', 'WNK1',\n",
       "       'YTHDF3-AS1', 'ZBTB40', 'ZC3H4', 'ZCCHC14', 'ZFP41', 'ZFYVE26', 'ZMIZ1', 'ZNF276', 'ZNF438', 'ZNF622', 'ZNF717', 'ZNF718',\n",
       "       'ZNF841', 'ZNHIT2'], dtype=object)"
      ]
     },
     "execution_count": 295,
     "metadata": {},
     "output_type": "execute_result"
    }
   ],
   "source": [
    "np.unique(np.array(gene_list),return_counts=1)[0][np.unique(np.array(gene_list),return_counts=1)[1]>19]"
   ]
  },
  {
   "cell_type": "markdown",
   "id": "6fc78b17-51e0-46be-b0df-1dfd0d437ebc",
   "metadata": {},
   "source": [
    "cell below shows top-20 positive influenctial genes in one sample."
   ]
  },
  {
   "cell_type": "code",
   "execution_count": 201,
   "id": "323ddb98-c3ae-4776-aa6d-6fd91650fc68",
   "metadata": {},
   "outputs": [
    {
     "data": {
      "text/plain": [
       "Index(['HYAL2', 'CTSC', 'AKAP13', 'HIVEP2', 'THBS1', 'PPP4R3A', 'FBXL12',\n",
       "       'MYL12B', 'ARHGAP21', 'ATN1', 'HSPA2', 'RPPH1', 'SOS1', 'MIER3',\n",
       "       'PCDHGA10', 'ZC3H4', 'DIPK1B', 'IER5L', 'DYRK1A', 'ZMIZ1'],\n",
       "      dtype='object', name='GeneName')"
      ]
     },
     "execution_count": 201,
     "metadata": {},
     "output_type": "execute_result"
    }
   ],
   "source": [
    "pd.read_csv('/home/yiyou/lg2geneexp.csv',index_col=0).index[np.argsort(raw_shap_explanations[0][2][0])[-20:]][::-1]"
   ]
  }
 ],
 "metadata": {
  "kernelspec": {
   "display_name": "Python 3",
   "language": "python",
   "name": "python3"
  },
  "language_info": {
   "codemirror_mode": {
    "name": "ipython",
    "version": 3
   },
   "file_extension": ".py",
   "mimetype": "text/x-python",
   "name": "python",
   "nbconvert_exporter": "python",
   "pygments_lexer": "ipython3",
   "version": "3.8.8"
  }
 },
 "nbformat": 4,
 "nbformat_minor": 5
}
